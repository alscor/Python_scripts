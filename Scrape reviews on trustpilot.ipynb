{
 "cells": [
  {
   "cell_type": "markdown",
   "metadata": {},
   "source": [
    "# Scrape reviews from trustpilot"
   ]
  },
  {
   "cell_type": "markdown",
   "metadata": {},
   "source": [
    "### Import modules"
   ]
  },
  {
   "cell_type": "code",
   "execution_count": 1,
   "metadata": {
    "ExecuteTime": {
     "end_time": "2021-12-16T17:10:28.507801Z",
     "start_time": "2021-12-16T17:10:27.507932Z"
    }
   },
   "outputs": [],
   "source": [
    "from selenium import webdriver\n",
    "from selenium.webdriver.common.keys import Keys\n",
    "from selenium.webdriver import ActionChains\n",
    "from selenium.webdriver.support.ui import WebDriverWait\n",
    "from selenium.webdriver.support import expected_conditions as EC\n",
    "from selenium.webdriver.common.by import By\n",
    "from webdriver_manager.chrome import ChromeDriverManager\n",
    "\n",
    "import requests\n",
    "\n",
    "import time\n",
    "import re\n",
    "\n",
    "import pandas as pd\n",
    "pd.set_option('display.width',800)\n",
    "pd.set_option('display.max_rows',800)"
   ]
  },
  {
   "cell_type": "markdown",
   "metadata": {
    "ExecuteTime": {
     "end_time": "2021-11-29T17:24:55.436248Z",
     "start_time": "2021-11-29T17:24:55.421314Z"
    }
   },
   "source": [
    "### Parameters"
   ]
  },
  {
   "cell_type": "code",
   "execution_count": 2,
   "metadata": {
    "ExecuteTime": {
     "end_time": "2021-12-16T17:10:29.972025Z",
     "start_time": "2021-12-16T17:10:29.963050Z"
    }
   },
   "outputs": [],
   "source": [
    "# Scrape records for a specific company\n",
    "company = 'T-Mobile'\n",
    "ur = 'https://www.trustpilot.com/review/www.t-mobile.com'"
   ]
  },
  {
   "cell_type": "markdown",
   "metadata": {},
   "source": [
    "### Initialiaze the WebDriver"
   ]
  },
  {
   "cell_type": "code",
   "execution_count": 3,
   "metadata": {
    "ExecuteTime": {
     "end_time": "2021-12-16T17:10:44.721648Z",
     "start_time": "2021-12-16T17:10:34.487973Z"
    }
   },
   "outputs": [
    {
     "name": "stderr",
     "output_type": "stream",
     "text": [
      "[WDM] - Current google-chrome version is 96.0.4664\n",
      "[WDM] - Get LATEST driver version for 96.0.4664\n",
      "[WDM] - There is no [win32] chromedriver for browser 96.0.4664 in cache\n"
     ]
    },
    {
     "name": "stdout",
     "output_type": "stream",
     "text": [
      " \n"
     ]
    },
    {
     "name": "stderr",
     "output_type": "stream",
     "text": [
      "[WDM] - Get LATEST driver version for 96.0.4664\n",
      "[WDM] - Trying to download new driver from http://chromedriver.storage.googleapis.com/96.0.4664.45/chromedriver_win32.zip\n",
      "[WDM] - Driver has been saved in cache [C:\\Users\\vlukin01\\.wdm\\drivers\\chromedriver\\win32\\96.0.4664.45]\n"
     ]
    }
   ],
   "source": [
    "driver = webdriver.Chrome(ChromeDriverManager().install())\n",
    "driver.get(ur)"
   ]
  },
  {
   "cell_type": "markdown",
   "metadata": {
    "ExecuteTime": {
     "end_time": "2021-11-29T17:25:40.550604Z",
     "start_time": "2021-11-29T17:25:32.910209Z"
    }
   },
   "source": [
    "\n",
    "### Functions that do the job with the web page"
   ]
  },
  {
   "cell_type": "code",
   "execution_count": 5,
   "metadata": {
    "ExecuteTime": {
     "end_time": "2021-12-16T17:11:47.252139Z",
     "start_time": "2021-12-16T17:11:47.246155Z"
    }
   },
   "outputs": [],
   "source": [
    "# Functions that do the job with the web page\n",
    "\n",
    "def get_txt(_drv, _xp):\n",
    "    _txt = _drv.find_elements_by_xpath(_xp)\n",
    "    return _txt\n",
    "\n",
    "def push_next_button(_drv, _elem):   \n",
    "    btn_next = _drv.find_element_by_name(_elem)\n",
    "    btn_next.send_keys(Keys.RETURN)\n",
    "    time.sleep(1)\n",
    "\n",
    "# Webpage elements\n",
    "el_rawtext = '//*[@id=\"__next\"]/div/main/div/div[3]'  # Element that captures raw text (no rating )    \n",
    "btn1 = 'pagination-button-next'"
   ]
  },
  {
   "cell_type": "markdown",
   "metadata": {
    "ExecuteTime": {
     "end_time": "2021-11-29T17:25:53.071523Z",
     "start_time": "2021-11-29T17:25:53.064540Z"
    }
   },
   "source": [
    "### Questions:\n",
    "\n",
    ">1. How to identify quickly the elements that I want?   This is, probably, HTML question. \n",
    ">1.a. Is there a way programmatically list all elements on the page?\n",
    "\n",
    ">2. I am looking at the element that captures rating of a review. Cannot find it :(\n",
    "\n",
    ">3. My current strategy is:\n",
    "    a. Load the page\n",
    "    b. Read all text\n",
    "    c. Parse the text into reviews where each review has elements:\n",
    "        - Name\n",
    "        - Location\n",
    "        - Date\n",
    "        - Title\n",
    "        - Body\n",
    "        - Rating ??? missing in my implementation\n",
    "        \n",
    "> Question: \n",
    ">    - Is it better/possible to read each review via element tags? \n",
    ">    - Can each element of a review be accessed via tags, not by text logic?\n",
    "\n"
   ]
  },
  {
   "cell_type": "code",
   "execution_count": 6,
   "metadata": {
    "ExecuteTime": {
     "end_time": "2021-12-16T17:11:50.688074Z",
     "start_time": "2021-12-16T17:11:50.660909Z"
    }
   },
   "outputs": [],
   "source": [
    "# Function that does post-processing of a raw text\n",
    "\n",
    "def break_review_txt(_txt, n_id = 1):\n",
    "    # _txt = raw text captured from the page\n",
    "    # n_id = \n",
    "    if type(_txt) == str:                            # If unparsed, split by the caret\n",
    "        _txt = _txt.split('\\n')                      # Parse the text by end of line\n",
    "        \n",
    "    # Find separators of reviews\n",
    "    l_reviews = []                                   # Initialize review separator index\n",
    "    for ix,t in enumerate(_txt): \n",
    "        rr = re.findall(r'\\d{1,4} reviews?$',t)      # Split line into 'review' chunks\n",
    "        if len(rr) > 0:                              \n",
    "            l_reviews.append(ix)                     # Store indices of review separators\n",
    "            \n",
    "    # Now parse review text into its elements:\n",
    "    \n",
    "    dct = dict()                                     # Storage for parsed elements\n",
    "    for i in range(len(l_reviews)-1):                # Loop over indices that separate reviews\n",
    "        s = l_reviews[i]                             # Start position\n",
    "        e = l_reviews[i+1]                           # End position\n",
    "  \n",
    "        _nme = _txt[s-1]                             # First line                \n",
    "        _nrv = _txt[s]                               # Second line\n",
    "        _loc = _txt[s+1]                             # Third line\n",
    "        _dte = _txt[s+2]                             # Forth line\n",
    "        _ttl = _txt[s+3]                             # Fifth line\n",
    "        _bdy = _txt[s+4:e-1]                         # This is a body\n",
    "        _bdy1 = [x for x in _bdy if x not in ['Share','Advertisement']]           # Some cleanup\n",
    "        _bdy2 = [x for x in _bdy1 if  len(re.findall('Useful[0-9]?',x))==0]       # Additional cleanup\n",
    "        dct_inner = dict()                           # Store parsed elements                       \n",
    "        dct_inner['name'] = _nme\n",
    "        dct_inner['location'] = _loc\n",
    "        dct_inner['date'] = _dte\n",
    "        dct_inner['title'] = _ttl\n",
    "        dct_inner['body'] = \" \".join(_bdy2)\n",
    "        \n",
    "        dct[n_id] = dct_inner                       # Index\n",
    "        n_id += 1                                   # Increment counter\n",
    "    \n",
    "    return dct"
   ]
  },
  {
   "cell_type": "code",
   "execution_count": null,
   "metadata": {},
   "outputs": [],
   "source": []
  },
  {
   "cell_type": "code",
   "execution_count": 7,
   "metadata": {
    "ExecuteTime": {
     "end_time": "2021-12-16T17:11:53.944160Z",
     "start_time": "2021-12-16T17:11:53.928162Z"
    }
   },
   "outputs": [],
   "source": [
    "# Testing commands - block when done\n",
    "#push_next_button(driver)\n",
    "#crvs3 = driver.find_elements_by_xpath(xp3)"
   ]
  },
  {
   "cell_type": "code",
   "execution_count": null,
   "metadata": {
    "ExecuteTime": {
     "end_time": "2021-11-29T17:25:58.326900Z",
     "start_time": "2021-11-29T17:25:58.322944Z"
    }
   },
   "outputs": [],
   "source": []
  },
  {
   "cell_type": "code",
   "execution_count": 8,
   "metadata": {
    "ExecuteTime": {
     "end_time": "2021-12-16T17:12:06.657246Z",
     "start_time": "2021-12-16T17:12:01.843897Z"
    },
    "scrolled": true
   },
   "outputs": [
    {
     "name": "stdout",
     "output_type": "stream",
     "text": [
      "0\n",
      "1\n",
      "2\n"
     ]
    }
   ],
   "source": [
    "sel_txt = []                                                # Storage for raw text\n",
    "tbls = []                                                   # Storage for parsed text\n",
    "\n",
    "N = 3                                                     # Estimated number of pages to scan through\n",
    "for i in range(N):\n",
    "    print(i)\n",
    "    txt = get_txt(_drv=driver, _xp=el_rawtext)              # Extract text from a page    \n",
    "    brk = break_review_txt(txt[0].text, n_id = i*1000)      # Parse text, make id unique for returned dict\n",
    "    tbl = pd.DataFrame.from_dict(brk, orient='index')       # Convert dict into pandas table for further processing\n",
    "    sel_txt.append(txt)                                     # Store raw text just for debugging purposes\n",
    "    tbls.append(tbl)                                        # Append a table from each page\n",
    "    push_next_button(driver, _elem=btn1)                    # Push a button to go to the next page\n",
    "    "
   ]
  },
  {
   "cell_type": "code",
   "execution_count": 9,
   "metadata": {
    "ExecuteTime": {
     "end_time": "2021-12-16T17:12:40.908203Z",
     "start_time": "2021-12-16T17:12:40.863841Z"
    }
   },
   "outputs": [
    {
     "data": {
      "text/html": [
       "<div>\n",
       "<style scoped>\n",
       "    .dataframe tbody tr th:only-of-type {\n",
       "        vertical-align: middle;\n",
       "    }\n",
       "\n",
       "    .dataframe tbody tr th {\n",
       "        vertical-align: top;\n",
       "    }\n",
       "\n",
       "    .dataframe thead th {\n",
       "        text-align: right;\n",
       "    }\n",
       "</style>\n",
       "<table border=\"1\" class=\"dataframe\">\n",
       "  <thead>\n",
       "    <tr style=\"text-align: right;\">\n",
       "      <th></th>\n",
       "      <th>index</th>\n",
       "      <th>name</th>\n",
       "      <th>location</th>\n",
       "      <th>date</th>\n",
       "      <th>title</th>\n",
       "      <th>body</th>\n",
       "    </tr>\n",
       "  </thead>\n",
       "  <tbody>\n",
       "    <tr>\n",
       "      <th>0</th>\n",
       "      <td>0</td>\n",
       "      <td>Eden Thompson</td>\n",
       "      <td>US</td>\n",
       "      <td>An hour ago</td>\n",
       "      <td>They're scam artists!!</td>\n",
       "      <td>They're scam artists!!! The ONLY reason I sign...</td>\n",
       "    </tr>\n",
       "    <tr>\n",
       "      <th>1</th>\n",
       "      <td>1</td>\n",
       "      <td>Christy Larsen</td>\n",
       "      <td>US</td>\n",
       "      <td>An hour ago</td>\n",
       "      <td>I've been with Sprint for 16 years</td>\n",
       "      <td>I've been with Sprint for 16 years. When T mob...</td>\n",
       "    </tr>\n",
       "    <tr>\n",
       "      <th>2</th>\n",
       "      <td>2</td>\n",
       "      <td>Sheila Banta</td>\n",
       "      <td>US</td>\n",
       "      <td>14 hours ago</td>\n",
       "      <td>Extremely horrible experience! Need to sue the...</td>\n",
       "      <td>My experience is so extremely horrible and I c...</td>\n",
       "    </tr>\n",
       "    <tr>\n",
       "      <th>3</th>\n",
       "      <td>3</td>\n",
       "      <td>ingrid stage</td>\n",
       "      <td>US</td>\n",
       "      <td>18 hours ago</td>\n",
       "      <td>TMobile should go out of business</td>\n",
       "      <td>Back it July I called up three to order TMobil...</td>\n",
       "    </tr>\n",
       "    <tr>\n",
       "      <th>4</th>\n",
       "      <td>4</td>\n",
       "      <td>David Mulvaine III</td>\n",
       "      <td>US</td>\n",
       "      <td>Updated a day ago</td>\n",
       "      <td>Impossible to cancel</td>\n",
       "      <td>My wife had/has sprint/t mobile and she has ha...</td>\n",
       "    </tr>\n",
       "  </tbody>\n",
       "</table>\n",
       "</div>"
      ],
      "text/plain": [
       "   index                name location               date                                              title                                               body\n",
       "0      0       Eden Thompson       US        An hour ago                             They're scam artists!!  They're scam artists!!! The ONLY reason I sign...\n",
       "1      1      Christy Larsen       US        An hour ago                 I've been with Sprint for 16 years  I've been with Sprint for 16 years. When T mob...\n",
       "2      2        Sheila Banta       US       14 hours ago  Extremely horrible experience! Need to sue the...  My experience is so extremely horrible and I c...\n",
       "3      3        ingrid stage       US       18 hours ago                  TMobile should go out of business  Back it July I called up three to order TMobil...\n",
       "4      4  David Mulvaine III       US  Updated a day ago                               Impossible to cancel  My wife had/has sprint/t mobile and she has ha..."
      ]
     },
     "execution_count": 9,
     "metadata": {},
     "output_type": "execute_result"
    }
   ],
   "source": [
    "tbl_out = pd.concat(tbls, axis=0)\n",
    "tbl_out.reset_index(inplace=True)\n",
    "tbl_out.head()"
   ]
  },
  {
   "cell_type": "code",
   "execution_count": null,
   "metadata": {
    "ExecuteTime": {
     "end_time": "2021-11-29T17:47:52.367786Z",
     "start_time": "2021-11-29T17:47:51.318975Z"
    }
   },
   "outputs": [],
   "source": [
    "# Store locally\n",
    "\n",
    "#ddir = r\"~\\Documents\\T-mobile\"   # Replace with local path\n",
    "#fout = ddir+\"\\\\{}_trustpilot_reviews.xlsx\".format(company)\n",
    "#tbl_out.to_excel(fout, header=True, index=True)"
   ]
  }
 ],
 "metadata": {
  "kernelspec": {
   "display_name": "Python 3",
   "language": "python",
   "name": "python3"
  },
  "language_info": {
   "codemirror_mode": {
    "name": "ipython",
    "version": 3
   },
   "file_extension": ".py",
   "mimetype": "text/x-python",
   "name": "python",
   "nbconvert_exporter": "python",
   "pygments_lexer": "ipython3",
   "version": "3.6.5"
  }
 },
 "nbformat": 4,
 "nbformat_minor": 4
}
