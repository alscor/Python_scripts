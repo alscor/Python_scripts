{
 "cells": [
  {
   "cell_type": "code",
   "execution_count": 1,
   "metadata": {
    "ExecuteTime": {
     "end_time": "2021-12-22T00:48:53.643396Z",
     "start_time": "2021-12-22T00:48:53.125475Z"
    }
   },
   "outputs": [],
   "source": [
    "import json\n",
    "from bs4 import BeautifulSoup # ! pip install beautifulsoup4\n",
    "from urllib.request import urlopen\n",
    "import pandas as pd\n",
    "\n",
    "import time\n",
    "from datetime import date"
   ]
  },
  {
   "cell_type": "code",
   "execution_count": 2,
   "metadata": {
    "ExecuteTime": {
     "end_time": "2021-12-22T00:48:54.650054Z",
     "start_time": "2021-12-22T00:48:54.639117Z"
    }
   },
   "outputs": [],
   "source": [
    "def scrape_trustpilot(page):\n",
    "    html = str(urlopen(page).read().decode('utf-8'))\n",
    "    soup = BeautifulSoup(html, 'html.parser')\n",
    "    res = soup.find('script',{'id': '__NEXT_DATA__', 'type': 'application/json'})\n",
    "    reviews = json.loads(\"\".join(res))['props']['pageProps']['reviews']  \n",
    "    info = {\n",
    "        'author': [review['consumer']['displayName'] for review in reviews],\n",
    "        'location': [review['consumer']['countryCode'] for review in reviews],\n",
    "        'date': [review['labels']['verification']['createdDateTime'][:10] for review in reviews],\n",
    "        'rating': [review['rating'] for review in reviews],\n",
    "        'headline': [review['title'] for review in reviews],\n",
    "        'full_text': [review['text'] for review in reviews],\n",
    "        'source':page,\n",
    "        'current date': date.today().strftime(\"%Y-%m-%d\")\n",
    "    }\n",
    "    info_df = pd.DataFrame(info)\n",
    "    return info_df"
   ]
  },
  {
   "cell_type": "code",
   "execution_count": null,
   "metadata": {
    "ExecuteTime": {
     "start_time": "2021-12-22T01:00:55.124Z"
    }
   },
   "outputs": [
    {
     "name": "stdout",
     "output_type": "stream",
     "text": [
      "Processed 10 pages in 11.7148 sec.\n",
      "Processed 20 pages in 24.1746 sec.\n"
     ]
    }
   ],
   "source": [
    "Npages = 100                                           # Specify how many pages to scrape - check before scpaping\n",
    "company = 'T-Mobile'                                   # For record purposes - specify company name\n",
    "input_url = 'https://www.trustpilot.com/review/www.t-mobile.com'\n",
    "\n",
    "scrape_data = []                                       # Storage for output\n",
    "\n",
    "\n",
    "t0 = time.time()\n",
    "for i in range(1,Npages):                              # Loop over N pages\n",
    "    if i > 1:\n",
    "        page = '{}{}{}'.format(input_url,'?page=',i)   # Construct URL with page numbering ?page=N\n",
    "    else: \n",
    "        page = input_url                               # First page - input url\n",
    "    try:\n",
    "        data = scrape_trustpilot(page)                 # Call scrape function\n",
    "    except:\n",
    "        pass                                           # Catch errors\n",
    "    if i % 10 == 0:\n",
    "        t1 = time.time()\n",
    "        print('Processed {} pages in {:.4f} sec.'.format(i,t1-t0))\n",
    "    \n",
    "    scrape_data.append(data)                           # Add processed data into the storage list\n",
    "    time.sleep(1)                                      # Wait 1 second\n",
    "\n",
    "print('Processed {} pages in {:.4f} sec.'.format(i,t1-t0))\n",
    "\n",
    "df_scraped = pd.concat(scrape_data, axis=0)            # Combine output into 1 dataset\n",
    "df_scraped.reset_index(inplace=True)                   # Reset index to start from 0\n",
    "df_scraped['index'] = company                          # Replace index column with company name "
   ]
  },
  {
   "cell_type": "code",
   "execution_count": null,
   "metadata": {},
   "outputs": [],
   "source": []
  }
 ],
 "metadata": {
  "kernelspec": {
   "display_name": "Python 3",
   "language": "python",
   "name": "python3"
  },
  "language_info": {
   "codemirror_mode": {
    "name": "ipython",
    "version": 3
   },
   "file_extension": ".py",
   "mimetype": "text/x-python",
   "name": "python",
   "nbconvert_exporter": "python",
   "pygments_lexer": "ipython3",
   "version": "3.6.5"
  }
 },
 "nbformat": 4,
 "nbformat_minor": 4
}
